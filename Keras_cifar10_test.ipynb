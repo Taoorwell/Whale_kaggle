{
 "cells": [
  {
   "cell_type": "code",
   "execution_count": 1,
   "metadata": {},
   "outputs": [],
   "source": [
    "import pickle\n",
    "import numpy as np\n",
    "import cv2\n",
    "import matplotlib.pyplot as plt\n",
    "import pandas as pd\n",
    "from pandas import DataFrame"
   ]
  },
  {
   "cell_type": "code",
   "execution_count": 22,
   "metadata": {},
   "outputs": [],
   "source": [
    "import keras\n",
    "from keras import backend as K\n",
    "from keras.models import Sequential\n",
    "from keras.layers import Activation\n",
    "from keras.layers.core import Dense\n",
    "from keras.optimizers import Adam\n",
    "from keras.metrics import categorical_crossentropy\n",
    "from keras.preprocessing.image import ImageDataGenerator\n",
    "from keras.models import Model\n",
    "from keras.applications import imagenet_utils\n",
    "from keras.layers import Dense, Dropout, Activation, Flatten\n",
    "from keras.layers import Conv2D, MaxPooling2D"
   ]
  },
  {
   "cell_type": "code",
   "execution_count": 3,
   "metadata": {},
   "outputs": [],
   "source": [
    "def unpickle(file):\n",
    "    with open(file,'rb') as f:\n",
    "        dict = pickle.load(f,encoding='latin1')\n",
    "    return dict\n",
    "def one_hot(x, n):\n",
    "    x = np.array(x)\n",
    "    assert x.ndim == 1\n",
    "    return np.eye(n)[x]"
   ]
  },
  {
   "cell_type": "code",
   "execution_count": 4,
   "metadata": {},
   "outputs": [],
   "source": [
    "datadir=\"./dataSet/cifar_10\""
   ]
  },
  {
   "cell_type": "code",
   "execution_count": 5,
   "metadata": {},
   "outputs": [],
   "source": [
    "def get_dat_set(name):\n",
    "    x = []\n",
    "    y = []\n",
    "    if name == \"train\":\n",
    "        for i in range(5):\n",
    "            datadict = unpickle(datadir+\"/data_batch_\"+str(i+1))\n",
    "            X = datadict[\"data\"]\n",
    "            Y = datadict[\"labels\"]\n",
    "            X = np.array(X,dtype=float)/255.0\n",
    "            X = X.reshape([-1,3,32,32]).transpose([0,2,3,1])\n",
    "            x.extend(X)\n",
    "            y.extend(Y)\n",
    "        x = np.array(x)\n",
    "        y = np.array(y)\n",
    "    elif name ==\"test\":\n",
    "        datadict = unpickle(datadir+\"/test_batch\")\n",
    "        x = datadict[\"data\"]\n",
    "        y = np.array(datadict['labels'])\n",
    "        x = np.array(x, dtype=float) / 255.0\n",
    "        x = x.reshape([-1, 3, 32, 32])\n",
    "        x = x.transpose([0,2,3,1])   \n",
    "    return x, one_hot(y,10)"
   ]
  },
  {
   "cell_type": "code",
   "execution_count": 25,
   "metadata": {},
   "outputs": [],
   "source": [
    "train_data,train_label = get_dat_set(name=\"train\")\n",
    "test_data, test_label = get_dat_set(name=\"test\")"
   ]
  },
  {
   "cell_type": "code",
   "execution_count": 26,
   "metadata": {},
   "outputs": [
    {
     "name": "stdout",
     "output_type": "stream",
     "text": [
      "Train_data: (50000, 32, 32, 3)\n"
     ]
    }
   ],
   "source": [
    "print(\"Train_data: {}\".format(train_data.shape))"
   ]
  },
  {
   "cell_type": "code",
   "execution_count": 27,
   "metadata": {},
   "outputs": [
    {
     "data": {
      "text/plain": [
       "(50000, 10)"
      ]
     },
     "execution_count": 27,
     "metadata": {},
     "output_type": "execute_result"
    }
   ],
   "source": [
    "train_label.shape"
   ]
  },
  {
   "cell_type": "code",
   "execution_count": 28,
   "metadata": {},
   "outputs": [],
   "source": [
    "# mobile_model = keras.applications.mobilenet.MobileNet()\n",
    "\n",
    "# model = Sequential()\n",
    "# for layer in mobile_model.layers[:-3]:\n",
    "#     layer.trainable = True\n",
    "#     model.add(layer)\n",
    "\n",
    "# model.add(Dense(10,activation='softmax'))\n",
    "# model.summary()"
   ]
  },
  {
   "cell_type": "code",
   "execution_count": 30,
   "metadata": {},
   "outputs": [],
   "source": [
    "model = Sequential()\n",
    "model.add(Conv2D(32, (3, 3), padding='same',\n",
    "                 input_shape=train_data.shape[1:]))\n",
    "model.add(Activation('relu'))\n",
    "model.add(Conv2D(32, (3, 3)))\n",
    "model.add(Activation('relu'))\n",
    "model.add(MaxPooling2D(pool_size=(2, 2)))\n",
    "model.add(Dropout(0.25))\n",
    "\n",
    "model.add(Conv2D(64, (3, 3), padding='same'))\n",
    "model.add(Activation('relu'))\n",
    "model.add(Conv2D(64, (3, 3)))\n",
    "model.add(Activation('relu'))\n",
    "model.add(MaxPooling2D(pool_size=(2, 2)))\n",
    "model.add(Dropout(0.25))\n",
    "\n",
    "model.add(Flatten())\n",
    "model.add(Dense(512))\n",
    "model.add(Activation('relu'))\n",
    "model.add(Dropout(0.5))\n",
    "model.add(Dense(10))\n",
    "model.add(Activation('softmax'))"
   ]
  },
  {
   "cell_type": "code",
   "execution_count": 36,
   "metadata": {},
   "outputs": [
    {
     "name": "stdout",
     "output_type": "stream",
     "text": [
      "_________________________________________________________________\n",
      "Layer (type)                 Output Shape              Param #   \n",
      "=================================================================\n",
      "conv2d_5 (Conv2D)            (None, 32, 32, 32)        896       \n",
      "_________________________________________________________________\n",
      "activation_6 (Activation)    (None, 32, 32, 32)        0         \n",
      "_________________________________________________________________\n",
      "conv2d_6 (Conv2D)            (None, 30, 30, 32)        9248      \n",
      "_________________________________________________________________\n",
      "activation_7 (Activation)    (None, 30, 30, 32)        0         \n",
      "_________________________________________________________________\n",
      "max_pooling2d_3 (MaxPooling2 (None, 15, 15, 32)        0         \n",
      "_________________________________________________________________\n",
      "dropout_4 (Dropout)          (None, 15, 15, 32)        0         \n",
      "_________________________________________________________________\n",
      "conv2d_7 (Conv2D)            (None, 15, 15, 64)        18496     \n",
      "_________________________________________________________________\n",
      "activation_8 (Activation)    (None, 15, 15, 64)        0         \n",
      "_________________________________________________________________\n",
      "conv2d_8 (Conv2D)            (None, 13, 13, 64)        36928     \n",
      "_________________________________________________________________\n",
      "activation_9 (Activation)    (None, 13, 13, 64)        0         \n",
      "_________________________________________________________________\n",
      "max_pooling2d_4 (MaxPooling2 (None, 6, 6, 64)          0         \n",
      "_________________________________________________________________\n",
      "dropout_5 (Dropout)          (None, 6, 6, 64)          0         \n",
      "_________________________________________________________________\n",
      "flatten_2 (Flatten)          (None, 2304)              0         \n",
      "_________________________________________________________________\n",
      "dense_3 (Dense)              (None, 512)               1180160   \n",
      "_________________________________________________________________\n",
      "activation_10 (Activation)   (None, 512)               0         \n",
      "_________________________________________________________________\n",
      "dropout_6 (Dropout)          (None, 512)               0         \n",
      "_________________________________________________________________\n",
      "dense_4 (Dense)              (None, 10)                5130      \n",
      "_________________________________________________________________\n",
      "activation_11 (Activation)   (None, 10)                0         \n",
      "=================================================================\n",
      "Total params: 1,250,858\n",
      "Trainable params: 1,250,858\n",
      "Non-trainable params: 0\n",
      "_________________________________________________________________\n"
     ]
    }
   ],
   "source": [
    "model.summary()"
   ]
  },
  {
   "cell_type": "code",
   "execution_count": 31,
   "metadata": {},
   "outputs": [],
   "source": [
    "model.compile(optimizer=Adam(lr=0.001),loss='categorical_crossentropy',metrics=['accuracy'])"
   ]
  },
  {
   "cell_type": "code",
   "execution_count": 33,
   "metadata": {},
   "outputs": [
    {
     "name": "stdout",
     "output_type": "stream",
     "text": [
      "Epoch 1/50\n",
      " - 187s - loss: 1.5180 - acc: 0.4436\n",
      "Epoch 2/50\n",
      " - 191s - loss: 1.1446 - acc: 0.5938\n",
      "Epoch 3/50\n",
      " - 197s - loss: 0.9851 - acc: 0.6524\n",
      "Epoch 4/50\n",
      " - 206s - loss: 0.8789 - acc: 0.6932\n",
      "Epoch 5/50\n",
      " - 202s - loss: 0.8077 - acc: 0.7185\n",
      "Epoch 6/50\n",
      " - 203s - loss: 0.7544 - acc: 0.7369\n",
      "Epoch 7/50\n",
      " - 204s - loss: 0.7127 - acc: 0.7518\n",
      "Epoch 8/50\n",
      " - 205s - loss: 0.6785 - acc: 0.7622\n",
      "Epoch 9/50\n",
      " - 211s - loss: 0.6454 - acc: 0.7726\n",
      "Epoch 10/50\n",
      " - 204s - loss: 0.6128 - acc: 0.7830\n",
      "Epoch 11/50\n",
      " - 296s - loss: 0.5974 - acc: 0.7905\n",
      "Epoch 12/50\n",
      " - 205s - loss: 0.5721 - acc: 0.7993\n",
      "Epoch 13/50\n",
      " - 208s - loss: 0.5502 - acc: 0.8061\n",
      "Epoch 14/50\n",
      " - 206s - loss: 0.5369 - acc: 0.8098\n",
      "Epoch 15/50\n",
      " - 206s - loss: 0.5195 - acc: 0.8157\n",
      "Epoch 16/50\n",
      " - 208s - loss: 0.5038 - acc: 0.8219\n",
      "Epoch 17/50\n",
      " - 208s - loss: 0.4896 - acc: 0.8255\n",
      "Epoch 18/50\n",
      " - 208s - loss: 0.4780 - acc: 0.8300\n",
      "Epoch 19/50\n",
      " - 261s - loss: 0.4676 - acc: 0.8353\n",
      "Epoch 20/50\n",
      " - 199s - loss: 0.4558 - acc: 0.8390\n",
      "Epoch 21/50\n",
      " - 209s - loss: 0.4429 - acc: 0.8430\n",
      "Epoch 22/50\n",
      " - 210s - loss: 0.4430 - acc: 0.8428\n",
      "Epoch 23/50\n",
      " - 207s - loss: 0.4309 - acc: 0.8458\n",
      "Epoch 24/50\n",
      " - 207s - loss: 0.4325 - acc: 0.8469\n",
      "Epoch 25/50\n",
      " - 208s - loss: 0.4189 - acc: 0.8517\n",
      "Epoch 26/50\n",
      " - 209s - loss: 0.4118 - acc: 0.8532\n",
      "Epoch 27/50\n",
      " - 206s - loss: 0.4060 - acc: 0.8542\n",
      "Epoch 28/50\n",
      " - 362s - loss: 0.3997 - acc: 0.8595\n",
      "Epoch 29/50\n",
      " - 199s - loss: 0.3894 - acc: 0.8620\n",
      "Epoch 30/50\n",
      " - 204s - loss: 0.3891 - acc: 0.8611\n",
      "Epoch 31/50\n",
      " - 209s - loss: 0.3922 - acc: 0.8626\n",
      "Epoch 32/50\n",
      " - 204s - loss: 0.3766 - acc: 0.8672\n",
      "Epoch 33/50\n",
      " - 205s - loss: 0.3742 - acc: 0.8673\n",
      "Epoch 34/50\n",
      " - 205s - loss: 0.3618 - acc: 0.8724\n",
      "Epoch 35/50\n",
      " - 205s - loss: 0.3676 - acc: 0.8709\n",
      "Epoch 36/50\n",
      " - 203s - loss: 0.3598 - acc: 0.8732\n",
      "Epoch 37/50\n",
      " - 282s - loss: 0.3571 - acc: 0.8736\n",
      "Epoch 38/50\n",
      " - 202s - loss: 0.3537 - acc: 0.8756\n",
      "Epoch 39/50\n",
      " - 208s - loss: 0.3507 - acc: 0.8759\n",
      "Epoch 40/50\n",
      " - 209s - loss: 0.3513 - acc: 0.8773\n",
      "Epoch 41/50\n",
      " - 209s - loss: 0.3487 - acc: 0.8776\n",
      "Epoch 42/50\n",
      " - 208s - loss: 0.3473 - acc: 0.8785\n",
      "Epoch 43/50\n",
      " - 209s - loss: 0.3407 - acc: 0.8824\n",
      "Epoch 44/50\n",
      " - 217s - loss: 0.3396 - acc: 0.8809\n",
      "Epoch 45/50\n",
      " - 210s - loss: 0.3301 - acc: 0.8847\n",
      "Epoch 46/50\n",
      " - 577s - loss: 0.3376 - acc: 0.8821\n",
      "Epoch 47/50\n",
      " - 211s - loss: 0.3280 - acc: 0.8851\n",
      "Epoch 48/50\n",
      " - 212s - loss: 0.3279 - acc: 0.8856\n",
      "Epoch 49/50\n",
      " - 212s - loss: 0.3351 - acc: 0.8830\n",
      "Epoch 50/50\n",
      " - 212s - loss: 0.3236 - acc: 0.8874\n"
     ]
    },
    {
     "data": {
      "text/plain": [
       "<keras.callbacks.History at 0x258087ddba8>"
      ]
     },
     "execution_count": 33,
     "metadata": {},
     "output_type": "execute_result"
    }
   ],
   "source": [
    "model.fit(x = train_data,y=train_label,batch_size=50,epochs=50,verbose=2)"
   ]
  },
  {
   "cell_type": "code",
   "execution_count": 37,
   "metadata": {},
   "outputs": [
    {
     "data": {
      "text/plain": [
       "[0.6611566251039505, 0.7969]"
      ]
     },
     "execution_count": 37,
     "metadata": {},
     "output_type": "execute_result"
    }
   ],
   "source": [
    "scores = model.evaluate(test_data, test_label,verbose=2)"
   ]
  },
  {
   "cell_type": "code",
   "execution_count": 39,
   "metadata": {},
   "outputs": [
    {
     "name": "stdout",
     "output_type": "stream",
     "text": [
      "Test loss: 0.6612\n",
      "Test accuracy: 0.7969\n"
     ]
    }
   ],
   "source": [
    "print(\"Test loss: {:.4f}\".format(scores[0]))\n",
    "print(\"Test accuracy: {:.4f}\".format(scores[1]))"
   ]
  },
  {
   "cell_type": "code",
   "execution_count": null,
   "metadata": {},
   "outputs": [],
   "source": []
  }
 ],
 "metadata": {
  "kernelspec": {
   "display_name": "Python 3",
   "language": "python",
   "name": "python3"
  },
  "language_info": {
   "codemirror_mode": {
    "name": "ipython",
    "version": 3
   },
   "file_extension": ".py",
   "mimetype": "text/x-python",
   "name": "python",
   "nbconvert_exporter": "python",
   "pygments_lexer": "ipython3",
   "version": "3.6.1rc1"
  }
 },
 "nbformat": 4,
 "nbformat_minor": 2
}
